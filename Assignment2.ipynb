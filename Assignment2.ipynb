{
  "nbformat": 4,
  "nbformat_minor": 0,
  "metadata": {
    "colab": {
      "name": "Assignment2.ipynb",
      "provenance": [],
      "collapsed_sections": []
    },
    "kernelspec": {
      "name": "python3",
      "display_name": "Python 3"
    },
    "language_info": {
      "name": "python"
    }
  },
  "cells": [
    {
      "cell_type": "code",
      "metadata": {
        "colab": {
          "base_uri": "https://localhost:8080/"
        },
        "id": "hkF4MBJzcBv_",
        "outputId": "c304d20f-41a6-4a5d-caf1-3b6577e4b94d"
      },
      "source": [
        "#pilihan pertama\n",
        "n = 100\n",
        "\n",
        "def this_is_result():\n",
        "  result = formula1 - formula2\n",
        "  print(\"b - a : \" + str(result))\n",
        "\n",
        "# 1^2 + 2^2 + 3^2....+ n^2\n",
        "formula1 = ((2*n**3) + (3*n**2) + (n)) / 6 \n",
        "# (1+2+3....)^2\n",
        "formula2 = ((n**4) + (2*n**3) + (n**2)) / 4 \n",
        "\n",
        "print(\"a : \" + str(formula1))\n",
        "print(\"b : \" + str(formula2))\n",
        "this_is_result()\n"
      ],
      "execution_count": 4,
      "outputs": [
        {
          "output_type": "stream",
          "name": "stdout",
          "text": [
            "a : 338350.0\n",
            "b : 25502500.0\n",
            "b - a : 25164150.0\n"
          ]
        }
      ]
    },
    {
      "cell_type": "code",
      "metadata": {
        "id": "5BngcF_12_s0",
        "colab": {
          "base_uri": "https://localhost:8080/"
        },
        "outputId": "53ab07b1-935e-454c-d2e5-2fc1f0ae78c9"
      },
      "source": [
        "#ini punya ku dhiv aku \n",
        "a =int( input(\"Enter a Number: \"))\n",
        "# enter the number that we want to calculate\n",
        "\n",
        "x = ((2*a**3) + (3*a**2) + (a)) / 6 \n",
        "#x is x=(a^2+b^2+.....+z^2)\n",
        "y = ((a**4) + (2*a**3) + (a**2)) / 4 \n",
        "#y is y=(a+b+......+z)^2\n",
        "print(\"x : \" + str(x))\n",
        "print(\"y : \" + str(y))\n",
        "\n",
        "b = x - y\n",
        "print(\"x - y : \" + str(b))\n"
      ],
      "execution_count": 2,
      "outputs": [
        {
          "output_type": "stream",
          "name": "stdout",
          "text": [
            "Enter a Number: 100\n",
            "x : 338350.0\n",
            "y : 25502500.0\n",
            "y-x : -25164150.0\n"
          ]
        }
      ]
    },
    {
      "cell_type": "code",
      "metadata": {
        "id": "vldXbNM3zzFj"
      },
      "source": [
        ""
      ],
      "execution_count": null,
      "outputs": []
    }
  ]
}