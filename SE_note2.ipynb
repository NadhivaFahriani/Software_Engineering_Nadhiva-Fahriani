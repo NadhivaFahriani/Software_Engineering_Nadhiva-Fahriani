{
  "nbformat": 4,
  "nbformat_minor": 0,
  "metadata": {
    "colab": {
      "name": "SE_note2.ipynb",
      "provenance": [],
      "collapsed_sections": []
    },
    "kernelspec": {
      "name": "python3",
      "display_name": "Python 3"
    },
    "language_info": {
      "name": "python"
    }
  },
  "cells": [
    {
      "cell_type": "code",
      "metadata": {
        "id": "lB58xtVadiW2"
      },
      "source": [
        "#List\n",
        "contoh_list = [\"Dhiva\", 12, 12.0, ['Nadhiva', 'Fahriani'], {}, (), True]\n",
        "print(contoh_list[0])\n",
        "print(contoh_list[1])\n",
        "print(contoh_list[-1])"
      ],
      "execution_count": null,
      "outputs": []
    },
    {
      "cell_type": "code",
      "metadata": {
        "id": "uamdBo6Efl-m"
      },
      "source": [
        "#dictionary -> key:value\n",
        "contoh_dic = {12:\"Dhiva\", \"hanadul\":12, 12.0, ['Nadhiva', 'Fahriani'], {}, (), True}\n",
        "print(contoh_list[12])\n",
        "print(contoh_list[\"hanadul\"])"
      ],
      "execution_count": null,
      "outputs": []
    },
    {
      "cell_type": "code",
      "metadata": {
        "id": "bvsuBpBifpOP"
      },
      "source": [
        "#contoh method di dict : .keys()\n",
        "contoh_dict.keys()"
      ],
      "execution_count": null,
      "outputs": []
    },
    {
      "cell_type": "code",
      "metadata": {
        "colab": {
          "base_uri": "https://localhost:8080/"
        },
        "id": "rpaVVrXwjD0_",
        "outputId": "358d6ba1-c301-42c2-cfaa-39ebebf16053"
      },
      "source": [
        "#nambahin value & key\n",
        "contoh_dict = {12:\"Dhiva\", \"hanadul\":12}\n",
        "contoh_dict[\"nadhiva\"] = 121\n",
        "print(contoh_dict)"
      ],
      "execution_count": null,
      "outputs": [
        {
          "output_type": "stream",
          "name": "stdout",
          "text": [
            "{12: 'Dhiva', 'hanadul': 12, 'nadhiva': 121}\n"
          ]
        }
      ]
    },
    {
      "cell_type": "code",
      "metadata": {
        "id": "voUEpWF3juAI"
      },
      "source": [
        "contoh_dict[\"nadhiva\"].append(1000)\n",
        "print(contoh_dict)"
      ],
      "execution_count": null,
      "outputs": []
    },
    {
      "cell_type": "code",
      "metadata": {
        "id": "icjf_UfqkyIb"
      },
      "source": [
        "contoh_dict.pop(\"\")\n",
        "del contoh_dict[\"\"]"
      ],
      "execution_count": null,
      "outputs": []
    },
    {
      "cell_type": "code",
      "metadata": {
        "id": "HdReN97hf0Oq"
      },
      "source": [
        "#contoh method di list :\n",
        "list1 = [1,2,3,4,5,6]\n",
        "\n",
        "list1.append()\n",
        "list1.insert()\n",
        "list1.sort() #dari kecil - besar\n",
        "list1.sort(reverse = True) #dari besar - kecil\n",
        "list1.pop(2)\n",
        "list1.remove()\n",
        "list1.remove(list1_angka[1])"
      ],
      "execution_count": null,
      "outputs": []
    },
    {
      "cell_type": "code",
      "metadata": {
        "colab": {
          "base_uri": "https://localhost:8080/"
        },
        "id": "Y33fb_PUhcy3",
        "outputId": "9d2f5e6c-a0bd-4f2e-c6f5-7847d0779d2b"
      },
      "source": [
        "#set -> gabisa dipanggil\n",
        "list_angka = [9,7,4,1,7]\n",
        "list_angka"
      ],
      "execution_count": null,
      "outputs": [
        {
          "output_type": "execute_result",
          "data": {
            "text/plain": [
              "[9, 7, 4, 1, 7]"
            ]
          },
          "metadata": {},
          "execution_count": 3
        }
      ]
    },
    {
      "cell_type": "code",
      "metadata": {
        "colab": {
          "base_uri": "https://localhost:8080/"
        },
        "id": "DXxjaoaqiHkw",
        "outputId": "3cad5e06-7f33-41f5-ef03-0c7e481a690c"
      },
      "source": [
        "set_angka = set(list_angka)\n",
        "set_angka"
      ],
      "execution_count": null,
      "outputs": [
        {
          "output_type": "execute_result",
          "data": {
            "text/plain": [
              "{1, 4, 7, 9}"
            ]
          },
          "metadata": {},
          "execution_count": 4
        }
      ]
    },
    {
      "cell_type": "code",
      "metadata": {
        "colab": {
          "base_uri": "https://localhost:8080/"
        },
        "id": "y46PC_USiZI_",
        "outputId": "0627fd45-871e-400e-f673-cecca083bb28"
      },
      "source": [
        "list_angka = list(set_angka)\n",
        "list_angka"
      ],
      "execution_count": null,
      "outputs": [
        {
          "output_type": "execute_result",
          "data": {
            "text/plain": [
              "[9, 4, 1, 7]"
            ]
          },
          "metadata": {},
          "execution_count": 5
        }
      ]
    },
    {
      "cell_type": "code",
      "metadata": {
        "id": "Zys9ENqaigVd"
      },
      "source": [
        "#Tuple -> gabisa ditambah/dikurang tp bisa dipanggil\n",
        "tuple_angka = (1,3,5,7,9,7)\n",
        "tuple_angka[0]"
      ],
      "execution_count": null,
      "outputs": []
    },
    {
      "cell_type": "code",
      "metadata": {
        "id": "W526YQ7_k9ED"
      },
      "source": [
        "#for looping\n",
        "for i in range(0, 10, 1): #klo di c = for(int i=0; i < 25; i++)\n",
        "  print(i)"
      ],
      "execution_count": null,
      "outputs": []
    },
    {
      "cell_type": "code",
      "metadata": {
        "id": "8wLLQuYal60w"
      },
      "source": [
        "#while looping\n",
        "a = 0\n",
        "while a<10:\n",
        "  print(\"a masih lebih kecil dari 20{}\".format(a))\n",
        "  a += 1"
      ],
      "execution_count": null,
      "outputs": []
    },
    {
      "cell_type": "code",
      "metadata": {
        "id": "uqODA1jVmfKn"
      },
      "source": [
        "#umur user yang diinput tidak boleh dibawah 17\n",
        "\n",
        "while True:\n",
        "  umur = int(input())\n",
        "  if umur >= 17:\n",
        "    break"
      ],
      "execution_count": null,
      "outputs": []
    },
    {
      "cell_type": "code",
      "metadata": {
        "id": "XMhXEYgEmzWn"
      },
      "source": [
        "while True:\n",
        "  umur = int(input())\n",
        "  if umur >= 17:\n",
        "    continue\n",
        "  elif umur > 17:\n",
        "    break\n",
        "  print(\"Jika dibawah umur 17 aku muncul\")"
      ],
      "execution_count": null,
      "outputs": []
    },
    {
      "cell_type": "code",
      "metadata": {
        "id": "kr66i_L6nXQM"
      },
      "source": [
        "#for else \n",
        "for i in range(0, 20, 2):\n",
        "    print(i)\n",
        "    if i == 2:\n",
        "      break\n",
        "else:\n",
        "    print(\"Aku akan muncul jika break tidak tereksekusi\")"
      ],
      "execution_count": null,
      "outputs": []
    },
    {
      "cell_type": "code",
      "metadata": {
        "id": "wI8FhVDCnsJF"
      },
      "source": [
        "#function\n",
        "def nama_function(a,b):\n",
        "    #masukin code kita disini\n",
        "    if a > b:\n",
        "      return a\n",
        "    else:\n",
        "      return b"
      ],
      "execution_count": null,
      "outputs": []
    },
    {
      "cell_type": "code",
      "metadata": {
        "id": "B_QhOQHvoNIT"
      },
      "source": [
        "print(nama_function(a,b))"
      ],
      "execution_count": null,
      "outputs": []
    },
    {
      "cell_type": "code",
      "metadata": {
        "id": "WucQ7m6RqJiM"
      },
      "source": [
        "contoh_list = [\"Dhiva\", 12, 12.0, ['Nadhiva', 'Fahriani'], {}, (), True]\n",
        "\n",
        "for i in contoh_list:\n",
        "  print(i)"
      ],
      "execution_count": null,
      "outputs": []
    },
    {
      "cell_type": "code",
      "metadata": {
        "id": "a3RSmCT8qdJA"
      },
      "source": [
        "list_angka = [0,1,2,3,4,5,6,7,8,9]\n",
        "\n",
        "for nilai in list_angka:\n",
        "  if nilai == 0:\n",
        "    list_angka.remove(nilai)\n",
        "list_angka"
      ],
      "execution_count": null,
      "outputs": []
    },
    {
      "cell_type": "code",
      "metadata": {
        "id": "CkM-RvDqrXJP"
      },
      "source": [
        "for char in \"Nadhiva Fahriani\":\n",
        "  print(char)"
      ],
      "execution_count": null,
      "outputs": []
    }
  ]
}